{
 "cells": [
  {
   "cell_type": "code",
   "execution_count": 1,
   "metadata": {
    "collapsed": true
   },
   "outputs": [],
   "source": [
    "import json\n",
    "from watson_developer_cloud import ConversationV1"
   ]
  },
  {
   "cell_type": "code",
   "execution_count": 31,
   "metadata": {
    "collapsed": false
   },
   "outputs": [],
   "source": [
    "conversation = ConversationV1(\n",
    "username='e266ac30-89d1-4d77-aea6-adc8ecf4f6ec',\n",
    "password='jTokTn0UtJYq',\n",
    "version='2016-09-20')"
   ]
  },
  {
   "cell_type": "code",
   "execution_count": 32,
   "metadata": {
    "collapsed": true
   },
   "outputs": [],
   "source": [
    "# replace with your own workspace_id\n",
    "workspace_id = 'a5dda5df-1eca-474a-ab80-d7e22c0226b9'"
   ]
  },
  {
   "cell_type": "code",
   "execution_count": 33,
   "metadata": {
    "collapsed": false
   },
   "outputs": [],
   "source": [
    "response = conversation.message(workspace_id=workspace_id, message_input={\n",
    "'text': 'Show me what is nearby'})"
   ]
  },
  {
   "cell_type": "code",
   "execution_count": 34,
   "metadata": {
    "collapsed": false
   },
   "outputs": [
    {
     "name": "stdout",
     "output_type": "stream",
     "text": [
      "{\n",
      "  \"entities\": [], \n",
      "  \"intents\": [\n",
      "    {\n",
      "      \"confidence\": 0.6791416575440735, \n",
      "      \"intent\": \"greetings\"\n",
      "    }\n",
      "  ], \n",
      "  \"output\": {\n",
      "    \"log_messages\": [\n",
      "      {\n",
      "        \"msg\": \"No dialog node matched for the input at a root level.\", \n",
      "        \"level\": \"warn\"\n",
      "      }, \n",
      "      {\n",
      "        \"msg\": \"No dialog node condition matched to true in the last dialog round - context.nodes_visited is empty. Falling back to the root node in the next round.\", \n",
      "        \"level\": \"warn\"\n",
      "      }\n",
      "    ], \n",
      "    \"text\": []\n",
      "  }, \n",
      "  \"context\": {\n",
      "    \"conversation_id\": \"f30cb6eb-5b87-466d-8d3b-1e06254415da\", \n",
      "    \"system\": {\n",
      "      \"dialog_turn_counter\": 1, \n",
      "      \"dialog_stack\": [\n",
      "        {\n",
      "          \"dialog_node\": \"root\"\n",
      "        }\n",
      "      ], \n",
      "      \"dialog_request_counter\": 1\n",
      "    }\n",
      "  }, \n",
      "  \"input\": {\n",
      "    \"text\": \"Show me what is nearby\"\n",
      "  }\n",
      "}\n"
     ]
    }
   ],
   "source": [
    "print(json.dumps(response, indent=2))"
   ]
  },
  {
   "cell_type": "code",
   "execution_count": null,
   "metadata": {
    "collapsed": true
   },
   "outputs": [],
   "source": []
  }
 ],
 "metadata": {
  "kernelspec": {
   "display_name": "Python 2",
   "language": "python",
   "name": "python2"
  },
  "language_info": {
   "codemirror_mode": {
    "name": "ipython",
    "version": 2
   },
   "file_extension": ".py",
   "mimetype": "text/x-python",
   "name": "python",
   "nbconvert_exporter": "python",
   "pygments_lexer": "ipython2",
   "version": "2.7.13"
  }
 },
 "nbformat": 4,
 "nbformat_minor": 2
}
